{
 "cells": [
  {
   "cell_type": "code",
   "execution_count": 1,
   "id": "e99c4689-1400-4bf1-932d-a978210c5690",
   "metadata": {},
   "outputs": [
    {
     "name": "stdout",
     "output_type": "stream",
     "text": [
      "root\n",
      " |-- _ID: integer (nullable = true)\n",
      " |-- TimeSt: timestamp (nullable = true)\n",
      " |-- Country: string (nullable = true)\n",
      " |-- Province: string (nullable = true)\n",
      " |-- City: string (nullable = true)\n",
      " |-- Latitude: double (nullable = true)\n",
      " |-- Longitude: double (nullable = true)\n",
      "\n",
      "root\n",
      " |-- POIID: string (nullable = true)\n",
      " |-- Latitude: double (nullable = true)\n",
      " |-- Longitude: double (nullable = true)\n",
      "\n"
     ]
    }
   ],
   "source": [
    "import os\n",
    "import pandas as pd\n",
    "from pyspark.sql import SparkSession\n",
    "from pyspark import SparkContext\n",
    "from pyspark.sql.types import *\n",
    "from math import radians, cos, sin, asin, sqrt\n",
    "def dist(lat1, long1, lat2, long2):\n",
    "    lat1, long1, lat2, long2 = map(radians, [lat1, long1, lat2, long2])\n",
    "    # haversine formula\n",
    "    dlon = long2 - long1 \n",
    "    dlat = lat2 - lat1 \n",
    "    a = sin(dlat/2)**2 + cos(lat1) * cos(lat2) * sin(dlon/2)**2\n",
    "    c = 2 * asin(sqrt(a)) \n",
    "    km = 6371* c\n",
    "    return km\n",
    "\n",
    "spark = SparkSession.builder.master('local').getOrCreate()\n",
    "df = spark.read.options(\n",
    "    header='True',\n",
    "    inferSchema='True',\n",
    "    delimiter=',',\n",
    ").csv(os.path.expanduser('~/data/DataSample.csv'))\n",
    "df = df.withColumnRenamed(\" TimeSt\",\"TimeSt\")\n",
    "\n",
    "poi = spark.read.options(\n",
    "    header='True',\n",
    "    inferSchema='True',\n",
    "    delimiter=',',\n",
    ").csv(os.path.expanduser('~/data/POIList.csv'))\n",
    "poi = poi.withColumnRenamed(\" Latitude\",\"Latitude\")\n",
    "\n",
    "df.printSchema()\n",
    "poi.printSchema()"
   ]
  },
  {
   "cell_type": "code",
   "execution_count": 2,
   "id": "f1f0ac87-a1a0-4aed-a6dd-f653263a1fcb",
   "metadata": {},
   "outputs": [
    {
     "name": "stdout",
     "output_type": "stream",
     "text": [
      "+-------+--------------------+-------+--------+------------+--------+---------+\n",
      "|    _ID|              TimeSt|Country|Province|        City|Latitude|Longitude|\n",
      "+-------+--------------------+-------+--------+------------+--------+---------+\n",
      "|4516516|2017-06-21 00:00:...|     CA|      ON|    Waterloo|43.49347|-80.49123|\n",
      "|4516547|2017-06-21 18:00:...|     CA|      ON|      London| 42.9399| -81.2709|\n",
      "|4516550|2017-06-21 15:00:...|     CA|      ON|      Guelph| 43.5776| -80.2201|\n",
      "|4516600|2017-06-21 15:00:...|     CA|      ON|   Stratford| 43.3716| -80.9773|\n",
      "|4516613|2017-06-21 15:00:...|     CA|      ON|   Stratford| 43.3716| -80.9773|\n",
      "|4516693|2017-06-21 14:00:...|     CA|      ON|   Kitchener| 43.4381| -80.5099|\n",
      "|4516771|2017-06-21 10:00:...|     CA|      ON|      Sarnia|  42.961|  -82.373|\n",
      "|4516831|2017-06-21 12:00:...|     CA|      ON|      London| 43.0091| -81.1765|\n",
      "|4516915|2017-06-21 15:00:...|     CA|      ON|      London| 43.0091| -81.1765|\n",
      "|4516953|2017-06-21 16:00:...|     CA|      ON|   Kitchener| 43.4278| -80.5135|\n",
      "|4516966|2017-06-21 01:00:...|     CA|      ON|   Kitchener| 43.4381| -80.5099|\n",
      "|4517044|2017-06-21 21:00:...|     CA|      ON|     Windsor| 42.2825| -83.0372|\n",
      "|4517081|2017-06-21 22:00:...|     CA|      ON|     Windsor|42.24397|-82.98058|\n",
      "|4517175|2017-06-21 19:00:...|     CA|      ON|Saint Thomas| 42.7792| -81.1927|\n",
      "|4517220|2017-06-21 18:00:...|     CA|      ON|    Waterloo| 43.4634| -80.5201|\n",
      "|4517250|2017-06-21 03:00:...|     CA|      ON|     Chatham| 42.4247| -82.1755|\n",
      "|4517303|2017-06-21 03:00:...|     CA|      ON|     Windsor| 42.2957| -82.9599|\n",
      "|4517326|2017-06-21 04:00:...|     CA|      ON|      Guelph| 43.5425| -80.2676|\n",
      "|4517349|2017-06-21 14:00:...|     CA|      ON|     Chatham| 42.4247| -82.1755|\n",
      "|4517420|2017-06-21 08:00:...|     CA|      ON|      Guelph| 43.5215| -80.2338|\n",
      "+-------+--------------------+-------+--------+------------+--------+---------+\n",
      "only showing top 20 rows\n",
      "\n"
     ]
    }
   ],
   "source": [
    "df2 = df.dropDuplicates(['TimeSt', 'Latitude', 'Longitude']).sort(\"_ID\")\n",
    "df2.show()"
   ]
  },
  {
   "cell_type": "code",
   "execution_count": 5,
   "id": "0197a6ef-bd5d-4275-a090-67e82a72732d",
   "metadata": {},
   "outputs": [
    {
     "name": "stdout",
     "output_type": "stream",
     "text": [
      "+-------+--------------------+-------+--------+------------+--------+---------+-----+\n",
      "|    _ID|              TimeSt|Country|Province|        City|Latitude|Longitude|POIID|\n",
      "+-------+--------------------+-------+--------+------------+--------+---------+-----+\n",
      "|4516516|2017-06-21 00:00:...|     CA|      ON|    Waterloo|43.49347|-80.49123| POI3|\n",
      "|4516547|2017-06-21 18:00:...|     CA|      ON|      London| 42.9399| -81.2709| POI3|\n",
      "|4516550|2017-06-21 15:00:...|     CA|      ON|      Guelph| 43.5776| -80.2201| POI3|\n",
      "|4516600|2017-06-21 15:00:...|     CA|      ON|   Stratford| 43.3716| -80.9773| POI3|\n",
      "|4516613|2017-06-21 15:00:...|     CA|      ON|   Stratford| 43.3716| -80.9773| POI3|\n",
      "|4516693|2017-06-21 14:00:...|     CA|      ON|   Kitchener| 43.4381| -80.5099| POI3|\n",
      "|4516771|2017-06-21 10:00:...|     CA|      ON|      Sarnia|  42.961|  -82.373| POI3|\n",
      "|4516831|2017-06-21 12:00:...|     CA|      ON|      London| 43.0091| -81.1765| POI3|\n",
      "|4516915|2017-06-21 15:00:...|     CA|      ON|      London| 43.0091| -81.1765| POI3|\n",
      "|4516953|2017-06-21 16:00:...|     CA|      ON|   Kitchener| 43.4278| -80.5135| POI3|\n",
      "|4516966|2017-06-21 01:00:...|     CA|      ON|   Kitchener| 43.4381| -80.5099| POI3|\n",
      "|4517044|2017-06-21 21:00:...|     CA|      ON|     Windsor| 42.2825| -83.0372| POI3|\n",
      "|4517081|2017-06-21 22:00:...|     CA|      ON|     Windsor|42.24397|-82.98058| POI3|\n",
      "|4517175|2017-06-21 19:00:...|     CA|      ON|Saint Thomas| 42.7792| -81.1927| POI3|\n",
      "|4517220|2017-06-21 18:00:...|     CA|      ON|    Waterloo| 43.4634| -80.5201| POI3|\n",
      "|4517250|2017-06-21 03:00:...|     CA|      ON|     Chatham| 42.4247| -82.1755| POI3|\n",
      "|4517303|2017-06-21 03:00:...|     CA|      ON|     Windsor| 42.2957| -82.9599| POI3|\n",
      "|4517326|2017-06-21 04:00:...|     CA|      ON|      Guelph| 43.5425| -80.2676| POI3|\n",
      "|4517349|2017-06-21 14:00:...|     CA|      ON|     Chatham| 42.4247| -82.1755| POI3|\n",
      "|4517420|2017-06-21 08:00:...|     CA|      ON|      Guelph| 43.5215| -80.2338| POI3|\n",
      "+-------+--------------------+-------+--------+------------+--------+---------+-----+\n",
      "only showing top 20 rows\n",
      "\n"
     ]
    }
   ],
   "source": [
    "df2pd = df2.toPandas()\n",
    "poipd = poi.toPandas()\n",
    "\n",
    "def find_nearest(Latitude, Longitude):\n",
    "    distances = poipd.apply(\n",
    "        lambda row: dist(Latitude, Longitude, row['Latitude'], row['Longitude']), \n",
    "        axis=1)\n",
    "    return poipd.loc[distances.idxmin(), 'POIID']\n",
    "\n",
    "df2pd['POIID'] = df2pd.apply(\n",
    "    lambda row: find_nearest(row['Latitude'], row['Longitude']), \n",
    "    axis=1)\n",
    "df = spark.createDataFrame(df2pd)\n",
    "df.write.mode(\"overwrite\").option(\"header\",True).csv(\"DataSample\")\n",
    "df.show()"
   ]
  },
  {
   "cell_type": "code",
   "execution_count": null,
   "id": "e5812f37-abf6-4da3-bd61-eb3ce918e159",
   "metadata": {},
   "outputs": [],
   "source": []
  }
 ],
 "metadata": {
  "kernelspec": {
   "display_name": "Python 3 (ipykernel)",
   "language": "python",
   "name": "python3"
  },
  "language_info": {
   "codemirror_mode": {
    "name": "ipython",
    "version": 3
   },
   "file_extension": ".py",
   "mimetype": "text/x-python",
   "name": "python",
   "nbconvert_exporter": "python",
   "pygments_lexer": "ipython3",
   "version": "3.10.5"
  }
 },
 "nbformat": 4,
 "nbformat_minor": 5
}
